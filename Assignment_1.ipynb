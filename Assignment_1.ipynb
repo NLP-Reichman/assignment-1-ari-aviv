{
  "cells": [
    {
      "cell_type": "markdown",
      "metadata": {
        "id": "FECp14-d_F2e"
      },
      "source": [
        "# Set up"
      ]
    },
    {
      "cell_type": "code",
      "execution_count": 1,
      "metadata": {
        "colab": {
          "base_uri": "https://localhost:8080/"
        },
        "id": "za-DgcYB_IQx",
        "outputId": "575160cb-cf01-4cff-8d37-8a8908a70c86"
      },
      "outputs": [],
      "source": [
        "# !git clone https://github.com/NLP-Reichman/2025_assignment_1.git\n",
        "# !mv 2025_assignment_1/data data\n",
        "# !rm 2025_assignment_1/ -r"
      ]
    },
    {
      "cell_type": "markdown",
      "metadata": {
        "id": "0i2bOXTB8Dvc"
      },
      "source": [
        "# Introduction\n",
        "In this assignment you will be creating tools for learning and testing language models. The corpora that you will be working with are lists of tweets in 8 different languages that use the Latin script. The data is provided either formatted as CSV or as JSON, for your convenience. The end goal is to write a set of tools that can detect the language of a given tweet.\n",
        "The relevant files are under the data folder:\n",
        "\n",
        "- en.csv (or the equivalent JSON file)\n",
        "- es.csv (or the equivalent JSON file)\n",
        "- fr.csv (or the equivalent JSON file)\n",
        "- in.csv (or the equivalent JSON file)\n",
        "- it.csv (or the equivalent JSON file)\n",
        "- nl.csv (or the equivalent JSON file)\n",
        "- pt.csv (or the equivalent JSON file)\n",
        "- tl.csv (or the equivalent JSON file)"
      ]
    },
    {
      "cell_type": "code",
      "execution_count": null,
      "metadata": {
        "id": "1u1qR7iaq_GU"
      },
      "outputs": [],
      "source": [
        "import os\n",
        "import json\n",
        "import pandas as pd\n",
        "import numpy as np\n",
        "import re\n",
        "from itertools import product\n",
        "\n",
        "is_using_colab = os.getenv(\"COLAB_RELEASE_TAG\")\n",
        "if is_using_colab:\n",
        "    from google.colab import files"
      ]
    },
    {
      "cell_type": "markdown",
      "metadata": {
        "id": "IHN0tWTurwkN"
      },
      "source": [
        "# Implementation"
      ]
    },
    {
      "cell_type": "markdown",
      "metadata": {
        "id": "i56aKA0K8adr"
      },
      "source": [
        "## Part 1\n",
        "Implement the function *preprocess* that iterates over all the data files and creates a single vocabulary, containing all the tokens in the data. Our token definition is a single UTF-8 encoded character. So, the vocabulary list is a simple Python list of all the characters that you see at least once in the data. The vocabulary should include the `<start>` and  `<end>` tokens.\n",
        "\n",
        "Note - do NOT lowecase the sentences."
      ]
    },
    {
      "cell_type": "code",
      "execution_count": 3,
      "metadata": {},
      "outputs": [],
      "source": [
        "from collections import defaultdict, Counter\n",
        "\n",
        "def load_data():\n",
        "    directory = \"data\"\n",
        "    tweets = []\n",
        "    for filename in os.listdir(directory):\n",
        "        if filename.endswith(\".json\"):\n",
        "            filepath = os.path.join(directory, filename)\n",
        "            with open(filepath, 'r', encoding='utf-8') as file:\n",
        "                data = json.load(file)\n",
        "            language = os.path.splitext(filename)[0]\n",
        "            raw_tweets = data.get(\"tweet_text\", {})\n",
        "            # tweet_texts = clean_data(raw_tweets)\n",
        "            # for tweet_id, text in tweet_texts.items():\n",
        "            for tweet_id, text in raw_tweets.items():\n",
        "                tokens = tokenize_text(text)\n",
        "                tweets.append([tokens, language])\n",
        "    return np.array(tweets, dtype=object)\n",
        "\n",
        "def tokenize_text(text):\n",
        "    return list(text)\n",
        "\n",
        "# TODO: Complete this function if necessary, or remove.\n",
        "def clean_data(data):\n",
        "    for tweet_id in data:\n",
        "        text = data[tweet_id]\n",
        "        # Remove retweets starting with RT @username:\n",
        "        text = re.sub(r'^RT\\s+@\\w+:\\s*', '', text)\n",
        "        # Remove all mentions\n",
        "        text = re.sub(r'@\\w+', '', text)\n",
        "        # Remove hyperlinks\n",
        "        text = re.sub(r'http\\S+', '', text)\n",
        "        # Replace multiple whitespaces with a single space and trim\n",
        "        text = re.sub(r'\\s+', ' ', text).strip()\n",
        "        data[tweet_id] = text\n",
        "    return data\n",
        "\n",
        "tweets = load_data()"
      ]
    },
    {
      "cell_type": "code",
      "execution_count": 4,
      "metadata": {
        "id": "ws_5u7vRrg0o"
      },
      "outputs": [],
      "source": [
        "def preprocess() -> list[str]:\n",
        "    '''\n",
        "    Return a list of characters, representing the shared vocabulary of all languages\n",
        "    '''\n",
        "    vocab = []\n",
        "    ########################################\n",
        "    # vocab_counter = Counter()\n",
        "    # for tweet_row in tweets:\n",
        "    #     tweet_text = tweet_row[0]\n",
        "    #     vocab_counter.update(tweet_text)\n",
        "    # vocab_counter.update(['<start>'])\n",
        "    # vocab_counter.update(['<end>'])\n",
        "    # vocab = list(vocab_counter.keys())\n",
        "\n",
        "    # build the global character‑level vocabulary once\n",
        "    vocab_counter = Counter()\n",
        "    for tokens, _lang in tweets:                   # tweets = ndarray([tokens, lang])\n",
        "        vocab_counter.update(tokens)\n",
        "\n",
        "    vocab_counter.update(['<start>', '<end>'])\n",
        "    vocab = list(vocab_counter.keys())\n",
        "    ########################################\n",
        "    return vocab\n",
        "\n",
        "# We didn't want to change the function signature so we split it into separate helper function\n",
        "def preprocess_one_lang(tweets, n) -> list[str]:\n",
        "    '''\n",
        "    Given a word-separated ndarray of size (N,), returns vocabulary for this ndarray\n",
        "    Note: Here we assume all tweets are in the same language.\n",
        "    \n",
        "    n: the sentence length (for the n-gram)\n",
        "    '''\n",
        "    vocab_counter = Counter()\n",
        "    processed_tweets = []\n",
        "    for tweet_text in tweets:\n",
        "        tweet_text = ['<start>'] * (n - 1) + tweet_text + ['<end>']\n",
        "        processed_tweets.append(tweet_text)\n",
        "        vocab_counter.update(tweet_text)\n",
        "    vocab_counter.most_common()\n",
        "    vocab = list(vocab_counter.keys())\n",
        "    return vocab, processed_tweets"
      ]
    },
    {
      "cell_type": "code",
      "execution_count": 5,
      "metadata": {},
      "outputs": [
        {
          "name": "stdout",
          "output_type": "stream",
          "text": [
            "vocab length: 1804\n",
            "Some characters in the vocab: ['R', 'T', ' ', '@', 'O', 'N', 'H', 'E', 'P', 'l']\n"
          ]
        }
      ],
      "source": [
        "vocab = preprocess()\n",
        "print(f\"vocab length: {len(vocab)}\")\n",
        "print(f\"Some characters in the vocab: {vocab[:10]}\")"
      ]
    },
    {
      "cell_type": "markdown",
      "metadata": {
        "id": "tpjtwHW08jyH"
      },
      "source": [
        "## Part 2\n",
        "Implement the function *build_lm* that generates a language model from a textual corpus. The function should return a dictionary (representing a model) where the keys are all the relevant *n*-1 sequences, and the values are dictionaries with the *n*_th tokens and their corresponding probabilities to occur. To ensure consistent probabilities calculation, please add n-1 `<start>` tokens to the beginning of a tweet and one `<end>` token at the end. For example, for a trigram model (tokens are characters), it should look something like:\n",
        "\n",
        "{ \"ab\":{\"c\":0.5, \"b\":0.25, \"d\":0.25}, \"ca\":{\"a\":0.2, \"b\":0.7, \"d\":0.1} }\n",
        "\n",
        "which means for example that after the sequence \"ab\", there is a 0.5 chance that \"c\" will appear, 0.25 for \"b\" to appear and 0.25 for \"d\" to appear.\n",
        "\n",
        "Note - You should think how to add the add_one smoothing information to the dictionary and implement it.\n",
        "\n",
        "Please add the `<unk>` token with $p(<unk>)=1|V|$ to the LM if buiulding a smoothed LM."
      ]
    },
    {
      "cell_type": "code",
      "execution_count": null,
      "metadata": {
        "id": "uySEXdEUrkq_"
      },
      "outputs": [],
      "source": [
        "def build_lm(lang: str, n: int, smoothed: bool = False) -> dict[str, dict[str, float]]:\n",
        "    '''\n",
        "    Return a language model for the given lang and n_gram (n)\n",
        "    :param lang: the language of the model\n",
        "    :param n: the n_gram value\n",
        "    :param smoothed: boolean indicating whether to apply smoothing\n",
        "    :return: a dictionary where the keys are n_grams and the values are dictionaries\n",
        "    '''\n",
        "    LM = {}\n",
        "    ########################################\n",
        "    # # Filter tweets by the specified language\n",
        "    # tweet_texts = tweets[tweets[:, 1] == lang, 0]\n",
        "    # lang_vocab, processed_tweets = preprocess_one_lang(tweet_texts, n)\n",
        "    # lang_size = len(vocab)\n",
        "    # if len(tweet_texts) == 0:\n",
        "    #     raise ValueError('No such language!')\n",
        "        \n",
        "    # lm_counts = defaultdict(Counter)\n",
        "    # for words_list in processed_tweets:\n",
        "    #     # Iterate through each possible starting index for the n-gram\n",
        "    #     for i in range(len(words_list) - (n - 1)):\n",
        "    #         # Generate the key as a concatenated string of n-1 words\n",
        "    #         key = ''.join(words_list[i:i + n - 1])\n",
        "    #         next_word = words_list[i + n - 1]\n",
        "    #         lm_counts[key].update(next_word)\n",
        "\n",
        "\n",
        "    # for key in lm_counts:\n",
        "    #     total = sum(lm_counts[key].values())\n",
        "    #     prob_dict = {}\n",
        "        \n",
        "    #     if smoothed:\n",
        "    #         # Apply add-1 (Laplace) smoothing\n",
        "    #         total_smoothed = total + lang_size\n",
        "    #         for word in lang_vocab:\n",
        "    #             count = lm_counts[key].get(word, 0) + 1\n",
        "    #             prob = count / total_smoothed\n",
        "    #             prob_dict[word] = prob\n",
        "    #     else:\n",
        "    #         # No smoothing, use observed frequencies\n",
        "    #         for word, count in lm_counts[key].items():\n",
        "    #             prob_dict[word] = count / total\n",
        "    #     LM[key] = prob_dict\n",
        "    \n",
        "    # if smoothed:\n",
        "    #     LM['<unk>'] = {v: 1/lang_size for v in vocab}\n",
        "        # ---------- memoise ----------\n",
        "    if not hasattr(build_lm, \"_cache\"):\n",
        "        build_lm._cache = {}\n",
        "    ckey = (lang, n, smoothed)\n",
        "    if ckey in build_lm._cache:\n",
        "        return build_lm._cache[ckey]\n",
        "\n",
        "    # ---------- gather & pad tweets ----------\n",
        "    tweet_texts = tweets[tweets[:, 1] == lang, 0]\n",
        "    if len(tweet_texts) == 0:\n",
        "        raise ValueError(\"No such language!\")\n",
        "\n",
        "    lang_vocab, processed_tweets = preprocess_one_lang(tweet_texts, n)\n",
        "    V = len(lang_vocab)\n",
        "\n",
        "    # ---------- count n‑grams ----------\n",
        "    lm_counts = defaultdict(Counter)\n",
        "    for chars in processed_tweets:                 # chars is list[str]\n",
        "        for i in range(len(chars) - (n - 1)):\n",
        "            key = \"\".join(chars[i : i + n - 1])    # (n‑1)‑gram context\n",
        "            next_c = chars[i + n - 1]\n",
        "            lm_counts[key][next_c] += 1\n",
        "\n",
        "    # ---------- store probabilities (observed only) ----------\n",
        "    for ctx, cnts in lm_counts.items():\n",
        "        total = sum(cnts.values())\n",
        "        denom = total + (V if smoothed else 0)\n",
        "        LM[ctx] = {c: (k + (1 if smoothed else 0)) / denom for c, k in cnts.items()}\n",
        "\n",
        "    # constant unknown prob for *any* unseen event in this context\n",
        "    if smoothed:\n",
        "        LM[\"<unk>\"] = 1 / V                 # same for every context\n",
        "\n",
        "    build_lm._cache[ckey] = LM\n",
        "    ########################################\n",
        "    return LM"
      ]
    },
    {
      "cell_type": "code",
      "execution_count": 7,
      "metadata": {
        "colab": {
          "base_uri": "https://localhost:8080/"
        },
        "id": "d9mqbEhBttmm",
        "outputId": "df92d141-999d-42c9-8c12-e6d5e51f7d81"
      },
      "outputs": [
        {
          "name": "stdout",
          "output_type": "stream",
          "text": [
            "English Language Model with 3-gram is of length: 8238\n"
          ]
        }
      ],
      "source": [
        "LM = build_lm(\"en\", 3, False)\n",
        "print(f\"English Language Model with 3-gram is of length: {len(LM)}\")"
      ]
    },
    {
      "cell_type": "code",
      "execution_count": 8,
      "metadata": {},
      "outputs": [
        {
          "name": "stdout",
          "output_type": "stream",
          "text": [
            "English Language Model with 3-gram smoothed is of length: 8239\n"
          ]
        }
      ],
      "source": [
        "LM2 = build_lm(\"en\", 3, True)\n",
        "print(f\"English Language Model with 3-gram smoothed is of length: {len(LM2)}\")"
      ]
    },
    {
      "cell_type": "markdown",
      "metadata": {
        "id": "xwZnk7Ke8rW5"
      },
      "source": [
        "## Part 3\n",
        "Implement the function *eval* that returns the perplexity of a model (dictionary) running over the data file of the given target language.\n",
        "\n",
        "The `<unk>` should be used for unknown contexts when calculating the perplexities."
      ]
    },
    {
      "cell_type": "code",
      "execution_count": null,
      "metadata": {
        "id": "y9w8u411uJeq"
      },
      "outputs": [],
      "source": [
        "def perplexity(model: dict, text: list, n) -> float:\n",
        "  '''\n",
        "  Calculates the perplexity of the given string using the given language model.\n",
        "  :param model: The language model\n",
        "  :param text: The tokenized text to calculate the perplexity for\n",
        "  :param n: The n-gram of the model\n",
        "  :return: The perplexity\n",
        "  '''\n",
        "  pp = 0\n",
        "  #######################################\n",
        "  # unknown_prob = 1/len(vocab) if model.get('<unk>', None) else 1e-8\n",
        "  # pp = 0.0\n",
        "  # for i in range(len(text) - (n - 1)):\n",
        "  #   ngram = ''.join(text[i:i + n - 1])\n",
        "  #   ngram_prob = model.get(ngram, {}).get(text[i + n - 1], unknown_prob)\n",
        "  #   pp += np.log(ngram_prob)\n",
        "  # pp = np.exp(- pp / len(text))\n",
        "  unk_prob_global = model.get(\"<unk>\", 1e-8)\n",
        "\n",
        "  log_sum = 0.0\n",
        "  steps   = 0\n",
        "\n",
        "  for i in range(len(text) - (n - 1)):\n",
        "      ctx  = \"\".join(text[i : i + n - 1])\n",
        "      nxt  = text[i + n - 1]\n",
        "      prob = model.get(ctx, {}).get(nxt, unk_prob_global)\n",
        "      log_sum += np.log(prob)\n",
        "      steps  += 1\n",
        "\n",
        "  pp = np.exp(-log_sum / max(steps, 1))  \n",
        "  ########################################\n",
        "  return pp"
      ]
    },
    {
      "cell_type": "code",
      "execution_count": 10,
      "metadata": {},
      "outputs": [],
      "source": [
        "def eval(model: dict, target_lang: str, n: int) -> float:\n",
        "  '''\n",
        "  Return the perplexity value calculated over applying the model on the text file\n",
        "  of the target_lang language.\n",
        "  :param model: the language model\n",
        "  :param target_lang: the target language\n",
        "  :param n: The n-gram of the model\n",
        "  :return: the perplexity value\n",
        "  '''\n",
        "  pp = 0\n",
        "  ########################################\n",
        "  # tweet_texts = tweets[tweets[:, 1] == target_lang, 0]\n",
        "  # _, processed_tweets = preprocess_one_lang(tweet_texts, n)\n",
        "  # joined_text = [char for sentence in processed_tweets for char in sentence] # merges all tweets in the language into a single large sentence\n",
        "  # pp = perplexity(model, joined_text, n)\n",
        "  \n",
        "  # cache joined & padded text per (lang,n)\n",
        "  if not hasattr(eval, \"_cache\"):\n",
        "      eval._cache = {}\n",
        "  ckey = (target_lang, n)\n",
        "  if ckey not in eval._cache:\n",
        "      tgt_texts = tweets[tweets[:, 1] == target_lang, 0]\n",
        "      _, proc = preprocess_one_lang(tgt_texts, n)\n",
        "      eval._cache[ckey] = [ch for sent in proc for ch in sent]\n",
        "\n",
        "  pp = perplexity(model, eval._cache[ckey], n)  \n",
        "  ########################################\n",
        "  return pp"
      ]
    },
    {
      "cell_type": "code",
      "execution_count": 11,
      "metadata": {
        "id": "AIdDFvinBVhx"
      },
      "outputs": [],
      "source": [
        "LM = build_lm(\"en\", 3, True)"
      ]
    },
    {
      "cell_type": "code",
      "execution_count": 12,
      "metadata": {
        "colab": {
          "base_uri": "https://localhost:8080/"
        },
        "id": "1WUouhkBuWJu",
        "outputId": "75967c86-5b00-480a-8ffd-574122f7a452"
      },
      "outputs": [
        {
          "name": "stdout",
          "output_type": "stream",
          "text": [
            "Perplexity of the English 3-gram model on datasets:\n",
            "On English:  19.59\n",
            "On French:  39.10\n",
            "On Dutch:  41.58\n",
            "On Tagalog:  47.18\n"
          ]
        }
      ],
      "source": [
        "print(\"Perplexity of the English 3-gram model on datasets:\")\n",
        "print(f\"On English: {eval(LM, 'en', 3): .2f}\")\n",
        "print(f\"On French: {eval(LM, 'fr', 3): .2f}\")\n",
        "print(f\"On Dutch: {eval(LM, 'nl', 3): .2f}\")\n",
        "print(f\"On Tagalog: {eval(LM, 'tl', 3): .2f}\")\n"
      ]
    },
    {
      "cell_type": "code",
      "execution_count": 13,
      "metadata": {
        "colab": {
          "base_uri": "https://localhost:8080/"
        },
        "id": "5XP3ZIpLqB6r",
        "outputId": "3378ada3-42c1-42fb-88eb-8eeec458d0cd"
      },
      "outputs": [
        {
          "name": "stdout",
          "output_type": "stream",
          "text": [
            "Perplexity on differnet n-gram models on English\n",
            "On 1-gram:  37.82\n",
            "On 2-gram:  20.48\n",
            "On 3-gram:  19.59\n",
            "On 4-gram:  34.37\n"
          ]
        }
      ],
      "source": [
        "lm1 = build_lm(\"en\", 1, True)\n",
        "lm2 = build_lm(\"en\", 2, True)\n",
        "lm3 = build_lm(\"en\", 3, True)\n",
        "lm4 = build_lm(\"en\", 4, True)\n",
        "\n",
        "print(\"Perplexity on differnet n-gram models on English\")\n",
        "print(f\"On 1-gram: {eval(lm1, 'en', 1): .2f}\")\n",
        "print(f\"On 2-gram: {eval(lm2, 'en', 2): .2f}\")\n",
        "print(f\"On 3-gram: {eval(lm3, 'en', 3): .2f}\")\n",
        "print(f\"On 4-gram: {eval(lm4, 'en', 4): .2f}\")"
      ]
    },
    {
      "cell_type": "markdown",
      "metadata": {
        "id": "9ZYVc7hB84LP"
      },
      "source": [
        "## Part 4\n",
        "Implement the *match* function that calls *eval* using a specific value of *n* for every possible language pair among the languages we have data for. You should call *eval* for every language pair four times, with each call assign a different value for *n* (1-4). Each language pair is composed of the source language and the target language. Before you make the call, you need to call the *lm* function to create the language model for the source language. Then you can call *eval* with the language model and the target language. The function should return a pandas DataFrame with the following four columns: *source_lang*, *target_lang*, *n*, *perplexity*. The values for the first two columns are the two-letter language codes. The value for *n* is the *n* you use for generating the specific perplexity values which you should store in the forth column."
      ]
    },
    {
      "cell_type": "code",
      "execution_count": 14,
      "metadata": {
        "id": "tMczigsHuadi"
      },
      "outputs": [],
      "source": [
        "languages = ['en', 'es', 'fr', 'in', 'it', 'nl', 'pt', 'tl']"
      ]
    },
    {
      "cell_type": "code",
      "execution_count": 15,
      "metadata": {
        "id": "16ew9aZWroPC"
      },
      "outputs": [],
      "source": [
        "def match() -> pd.DataFrame:\n",
        "    ''''\n",
        "    Return a DataFrame containing one line per every language pair and n_gram.\n",
        "    Each line will contain the perplexity calculated when applying the language model\n",
        "    of the source language on the text of the target language.\n",
        "    :return: a DataFrame containing the perplexity values\n",
        "    '''\n",
        "    df  = pd.DataFrame()\n",
        "    ########################################\n",
        "    # rows = []\n",
        "\n",
        "    # for n in range(1, 5):                      # n = 1 to 4\n",
        "    #     for source_lang in languages:\n",
        "    #         # print(f\"Building model for source: {source_lang} (n={n})\")\n",
        "    #         lm = build_lm(source_lang, n, smoothed=True)\n",
        "\n",
        "    #         for target_lang in languages:\n",
        "    #             # print(f\"  Evaluating on target: {target_lang}\")\n",
        "    #             pp = eval(lm, target_lang, n)\n",
        "    #             rows.append({\n",
        "    #                 \"source\": source_lang,\n",
        "    #                 \"target\": target_lang,\n",
        "    #                 \"n\": n,\n",
        "    #                 \"perplexity\": pp\n",
        "    #             })\n",
        "\n",
        "    # df = pd.DataFrame(rows, columns=[\"source\", \"target\", \"n\", \"perplexity\"])\n",
        "    records = []\n",
        "\n",
        "    for n in range(1, 5):\n",
        "        # build each source model once per n\n",
        "        src_models = {s: build_lm(s, n, smoothed=True) for s in languages}\n",
        "\n",
        "        for src, tgt in product(languages, repeat=2):\n",
        "            pp = eval(src_models[src], tgt, n)\n",
        "            records.append((src, tgt, n, pp))\n",
        "\n",
        "    df = pd.DataFrame(records,\n",
        "                      columns=[\"source\", \"target\", \"n\", \"perplexity\"])    \n",
        "    ########################################\n",
        "    return df\n"
      ]
    },
    {
      "cell_type": "markdown",
      "metadata": {
        "id": "pAQoR0dH9C3T"
      },
      "source": [
        "## Part 5\n",
        "Implement the *generate* function which takes a language code, *n*, the prompt (the starting text), the number of tokens to generate, and *r*, which is the random seed for any randomized action you plan to take in your implementation. The function should start generating tokens, one by one, using the language model of the given source language and *n*. The prompt should be used as a starting point for aligning on the probabilities to be used for generating the next token.\n",
        "\n",
        "Note - The generation of the next token should be from the LM's distribution with NO smoothing."
      ]
    },
    {
      "cell_type": "code",
      "execution_count": 16,
      "metadata": {},
      "outputs": [],
      "source": [
        "models = {(language, n): build_lm(language, n, False) \n",
        "          for language in languages \n",
        "          for n in [1, 2, 3, 4]}\n",
        "\n",
        "vocabs = {\n",
        "    lang: preprocess_one_lang(tweets[tweets[:, 1] == lang, 0], 1)[0]\n",
        "    for lang in languages\n",
        "}"
      ]
    },
    {
      "cell_type": "code",
      "execution_count": 17,
      "metadata": {},
      "outputs": [],
      "source": [
        "import random"
      ]
    },
    {
      "cell_type": "code",
      "execution_count": 18,
      "metadata": {
        "id": "CpCm24-RrpuA"
      },
      "outputs": [],
      "source": [
        "def generate(lang: str, n: int, prompt: str, number_of_tokens: int, r: int) -> str:\n",
        "  '''\n",
        "  Generate text in the given language using the given parameters.\n",
        "  :param lang: the language of the model\n",
        "  :param n: the n_gram value\n",
        "  :param prompt: the prompt to start the generation\n",
        "  :param number_of_tokens: the number of tokens to generate\n",
        "  :param r: the random seed to use\n",
        "  '''\n",
        "  text = \"\"\n",
        "  ########################################\n",
        "  text = prompt\n",
        "  random.seed(r)\n",
        "  \n",
        "  model = models.get((lang, n))\n",
        "  padded_prompt = ['<start>'] * (n - 1) + tokenize_text(prompt)\n",
        "  \n",
        "  while number_of_tokens > 0:\n",
        "    number_of_tokens -= 1\n",
        "    ngram = ''.join(padded_prompt[-(n-1):]) if (n-1) > 0 else ''\n",
        "    prob_dist = model.get(ngram)\n",
        "    keys = list(prob_dist.keys()) if prob_dist is not None else None\n",
        "    probabilities = list(prob_dist.values()) if prob_dist is not None else None\n",
        "    \n",
        "    rand_num = random.random()\n",
        "    cumulative_prob = 0.0\n",
        "    if prob_dist is not None:\n",
        "      for key, prob in zip(keys, probabilities):\n",
        "        cumulative_prob += prob\n",
        "        if rand_num < cumulative_prob:\n",
        "            text += key\n",
        "            break\n",
        "    else: # if unrecognized ngram, we fall to lesser ngram, otherwise if n==0 we halt generation\n",
        "      n -= 1\n",
        "      if n == 0:\n",
        "        return text\n",
        "      model = models.get((lang, n)) # update used model to smaller ngram version\n",
        "      number_of_tokens += 1 #didnt generate token yet, so return it to counter\n",
        "      \n",
        "    padded_prompt[-1] = key\n",
        "    ########################################\n",
        "  return text"
      ]
    },
    {
      "cell_type": "markdown",
      "metadata": {
        "id": "eUWX8Ugu9INH"
      },
      "source": [
        "## Part 6\n",
        "Play with your generate function, try to generate different texts in different language and various values of *n*. No need to submit anything of that."
      ]
    },
    {
      "cell_type": "code",
      "execution_count": 19,
      "metadata": {
        "colab": {
          "base_uri": "https://localhost:8080/"
        },
        "id": "0ykbMBzG9LWn",
        "outputId": "c9613bb9-9d55-48dd-d2bf-f79435ab6d84"
      },
      "outputs": [
        {
          "name": "stdout",
          "output_type": "stream",
          "text": [
            "I amtpgLpC eLh\n",
            "I amoulpeginSh\n",
            "I amittchCalul\n",
            "I am cannTacca \n",
            "Soycalíodenye\n",
            "Soy (?\" y qAP\n",
            "Je suis:/opapropa\n",
            "Je suis nvésmpe..\n"
          ]
        }
      ],
      "source": [
        "print(generate('en', 1, \"I am\", 10, 5))\n",
        "print(generate('en', 2, \"I am\", 10, 5))\n",
        "print(generate('en', 3, \"I am\", 10, 5))\n",
        "print(generate('en', 4, \"I am \", 10, 5))\n",
        "print(generate('es', 2, \"Soy\", 10, 5))\n",
        "print(generate('es', 3, \"Soy\", 10, 5))\n",
        "print(generate('fr', 2, \"Je suis\", 10, 5))\n",
        "print(generate('fr', 3, \"Je suis\", 10, 5))"
      ]
    },
    {
      "cell_type": "markdown",
      "metadata": {
        "id": "q2jNlDISr9aL"
      },
      "source": [
        "# Testing"
      ]
    },
    {
      "cell_type": "markdown",
      "metadata": {
        "id": "uv48OCT_sIYW"
      },
      "source": [
        "Copy the content of the **tests.py** file from the repo and paste below. This will create the results.json file and download it to your machine."
      ]
    },
    {
      "cell_type": "code",
      "execution_count": 20,
      "metadata": {
        "colab": {
          "base_uri": "https://localhost:8080/",
          "height": 17
        },
        "id": "JZTlc2ieruqq",
        "outputId": "772800de-c13a-4bd2-f22e-734b012da84f"
      },
      "outputs": [
        {
          "ename": "NameError",
          "evalue": "name 'files' is not defined",
          "output_type": "error",
          "traceback": [
            "\u001b[1;31m---------------------------------------------------------------------------\u001b[0m",
            "\u001b[1;31mNameError\u001b[0m                                 Traceback (most recent call last)",
            "Cell \u001b[1;32mIn[20], line 62\u001b[0m\n\u001b[0;32m     59\u001b[0m     json\u001b[38;5;241m.\u001b[39mdump(res, f, indent\u001b[38;5;241m=\u001b[39m\u001b[38;5;241m2\u001b[39m)\n\u001b[0;32m     61\u001b[0m \u001b[38;5;66;03m# Download the results.json file\u001b[39;00m\n\u001b[1;32m---> 62\u001b[0m \u001b[43mfiles\u001b[49m\u001b[38;5;241m.\u001b[39mdownload(\u001b[38;5;124m'\u001b[39m\u001b[38;5;124mresults.json\u001b[39m\u001b[38;5;124m'\u001b[39m)\n\u001b[0;32m     63\u001b[0m \u001b[38;5;66;03m########################################\u001b[39;00m\n",
            "\u001b[1;31mNameError\u001b[0m: name 'files' is not defined"
          ]
        }
      ],
      "source": [
        "########################################\n",
        "# PLACE TESTS HERE #\n",
        "# Create tests\n",
        "def test_preprocess():\n",
        "    return {\n",
        "        'vocab_length': len(preprocess()),\n",
        "    }\n",
        "\n",
        "def test_build_lm():\n",
        "    return {\n",
        "        'english_2_gram_length': len(build_lm('en', 2, True)),\n",
        "        'english_3_gram_length': len(build_lm('en', 3, True)),\n",
        "        'french_3_gram_length': len(build_lm('fr', 3, True)),\n",
        "        'spanish_3_gram_length': len(build_lm('es', 3, True)),\n",
        "    }\n",
        "\n",
        "def test_eval():\n",
        "    lm = build_lm('en', 3, True)\n",
        "    return {\n",
        "        'en_on_en': round(eval(lm, 'en', 3), 2),\n",
        "        'en_on_fr': round(eval(lm, 'fr', 3), 2),\n",
        "        'en_on_tl': round(eval(lm, 'tl', 3), 2),\n",
        "        'en_on_nl': round(eval(lm, 'nl', 3), 2),\n",
        "    }\n",
        "\n",
        "def test_match():\n",
        "    df = match()\n",
        "    return {\n",
        "        'df_shape': df.shape,\n",
        "        'en_en_3': df[(df['source'] == 'en') & (df['target'] == 'en') & (df['n'] == 3)]['perplexity'].values[0],\n",
        "        'en_tl_3': df[(df['source'] == 'en') & (df['target'] == 'tl') & (df['n'] == 3)]['perplexity'].values[0],\n",
        "        'en_nl_3': df[(df['source'] == 'en') & (df['target'] == 'nl') & (df['n'] == 3)]['perplexity'].values[0],\n",
        "    }\n",
        "\n",
        "def test_generate():\n",
        "    return {\n",
        "        'english_2_gram': generate('en', 2, \"I am\", 20, 5),\n",
        "        'english_3_gram': generate('en', 3, \"I am\", 20, 5),\n",
        "        'english_4_gram': generate('en', 4, \"I Love\", 20, 5),\n",
        "        'spanish_2_gram': generate('es', 2, \"Soy\", 20, 5),\n",
        "        'spanish_3_gram': generate('es', 3, \"Soy\", 20, 5),\n",
        "        'french_2_gram': generate('fr', 2, \"Je suis\", 20, 5),\n",
        "        'french_3_gram': generate('fr', 3, \"Je suis\", 20, 5),\n",
        "    }\n",
        "\n",
        "# TESTS = [test_preprocess, test_build_lm, test_eval, test_match, test_generate]\n",
        "TESTS = [test_preprocess, test_build_lm, test_eval, test_match, test_generate]\n",
        "\n",
        "# Run tests and save results\n",
        "res = {}\n",
        "for test in TESTS:\n",
        "    try:\n",
        "        cur_res = test()\n",
        "        res.update({test.__name__: cur_res})\n",
        "    except Exception as e:\n",
        "        res.update({test.__name__: repr(e)})\n",
        "\n",
        "with open('results.json', 'w') as f:\n",
        "    json.dump(res, f, indent=2)\n",
        "\n",
        "# Download the results.json file\n",
        "files.download('results.json')\n",
        "########################################"
      ]
    },
    {
      "cell_type": "code",
      "execution_count": null,
      "metadata": {
        "colab": {
          "base_uri": "https://localhost:8080/"
        },
        "id": "0dEpidyrqXTr",
        "outputId": "771c371b-d07c-4aee-fd4e-8bca0a9d31f3"
      },
      "outputs": [],
      "source": [
        "# Show the local files, results.json should be there now and\n",
        "# also downloaded to your local machine\n",
        "!ls -l"
      ]
    }
  ],
  "metadata": {
    "accelerator": "GPU",
    "colab": {
      "gpuType": "T4",
      "provenance": []
    },
    "kernelspec": {
      "display_name": "ml",
      "language": "python",
      "name": "python3"
    },
    "language_info": {
      "codemirror_mode": {
        "name": "ipython",
        "version": 3
      },
      "file_extension": ".py",
      "mimetype": "text/x-python",
      "name": "python",
      "nbconvert_exporter": "python",
      "pygments_lexer": "ipython3",
      "version": "3.12.3"
    }
  },
  "nbformat": 4,
  "nbformat_minor": 0
}
