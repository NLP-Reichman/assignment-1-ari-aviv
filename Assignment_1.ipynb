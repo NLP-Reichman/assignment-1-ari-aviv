{
  "cells": [
    {
      "cell_type": "markdown",
      "metadata": {
        "id": "FECp14-d_F2e"
      },
      "source": [
        "# Set up"
      ]
    },
    {
      "cell_type": "code",
      "execution_count": 1,
      "metadata": {
        "colab": {
          "base_uri": "https://localhost:8080/"
        },
        "id": "za-DgcYB_IQx",
        "outputId": "d1f85a8b-2cf3-48de-df88-2cf093073d76"
      },
      "outputs": [
        {
          "output_type": "stream",
          "name": "stdout",
          "text": [
            "Cloning into '2025_assignment_1'...\n",
            "remote: Enumerating objects: 71, done.\u001b[K\n",
            "remote: Counting objects: 100% (71/71), done.\u001b[K\n",
            "remote: Compressing objects: 100% (54/54), done.\u001b[K\n",
            "remote: Total 71 (delta 24), reused 44 (delta 9), pack-reused 0 (from 0)\u001b[K\n",
            "Receiving objects: 100% (71/71), 7.05 MiB | 10.91 MiB/s, done.\n",
            "Resolving deltas: 100% (24/24), done.\n"
          ]
        }
      ],
      "source": [
        "!git clone https://github.com/NLP-Reichman/2025_assignment_1.git\n",
        "!mv 2025_assignment_1/data data\n",
        "!rm 2025_assignment_1/ -r"
      ]
    },
    {
      "cell_type": "markdown",
      "metadata": {
        "id": "0i2bOXTB8Dvc"
      },
      "source": [
        "# Introduction\n",
        "In this assignment you will be creating tools for learning and testing language models. The corpora that you will be working with are lists of tweets in 8 different languages that use the Latin script. The data is provided either formatted as CSV or as JSON, for your convenience. The end goal is to write a set of tools that can detect the language of a given tweet.\n",
        "The relevant files are under the data folder:\n",
        "\n",
        "- en.csv (or the equivalent JSON file)\n",
        "- es.csv (or the equivalent JSON file)\n",
        "- fr.csv (or the equivalent JSON file)\n",
        "- in.csv (or the equivalent JSON file)\n",
        "- it.csv (or the equivalent JSON file)\n",
        "- nl.csv (or the equivalent JSON file)\n",
        "- pt.csv (or the equivalent JSON file)\n",
        "- tl.csv (or the equivalent JSON file)"
      ]
    },
    {
      "cell_type": "code",
      "execution_count": 2,
      "metadata": {
        "id": "1u1qR7iaq_GU"
      },
      "outputs": [],
      "source": [
        "import os\n",
        "import json\n",
        "from google.colab import files\n",
        "import pandas as pd\n",
        "import numpy as np\n",
        "from itertools import product\n",
        "\n",
        "is_using_colab = os.getenv(\"COLAB_RELEASE_TAG\")\n",
        "if is_using_colab:\n",
        "    from google.colab import files"
      ]
    },
    {
      "cell_type": "markdown",
      "metadata": {
        "id": "IHN0tWTurwkN"
      },
      "source": [
        "# Implementation"
      ]
    },
    {
      "cell_type": "markdown",
      "metadata": {
        "id": "i56aKA0K8adr"
      },
      "source": [
        "## Part 1\n",
        "Implement the function *preprocess* that iterates over all the data files and creates a single vocabulary, containing all the tokens in the data. Our token definition is a single UTF-8 encoded character. So, the vocabulary list is a simple Python list of all the characters that you see at least once in the data. The vocabulary should include the `<start>` and  `<end>` tokens.\n",
        "\n",
        "Note - do NOT lowecase the sentences."
      ]
    },
    {
      "cell_type": "code",
      "execution_count": 3,
      "metadata": {
        "id": "TI0IzSkdm6v5"
      },
      "outputs": [],
      "source": [
        "from collections import defaultdict, Counter\n",
        "\n",
        "def load_data():\n",
        "    directory = \"data\"\n",
        "    tweets = []\n",
        "    for filename in os.listdir(directory):\n",
        "        if filename.endswith(\".json\"):\n",
        "            filepath = os.path.join(directory, filename)\n",
        "            with open(filepath, 'r', encoding='utf-8') as file:\n",
        "                data = json.load(file)\n",
        "            language = os.path.splitext(filename)[0]\n",
        "            raw_tweets = data.get(\"tweet_text\", {})\n",
        "            # tweet_texts = clean_data(raw_tweets)\n",
        "            # for tweet_id, text in tweet_texts.items():\n",
        "            for tweet_id, text in raw_tweets.items():\n",
        "                tokens = tokenize_text(text)\n",
        "                tweets.append([tokens, language])\n",
        "    return np.array(tweets, dtype=object)\n",
        "\n",
        "def tokenize_text(text):\n",
        "    return list(text)\n",
        "\n",
        "tweets = load_data()"
      ]
    },
    {
      "cell_type": "code",
      "execution_count": 4,
      "metadata": {
        "id": "ws_5u7vRrg0o"
      },
      "outputs": [],
      "source": [
        "def preprocess() -> list[str]:\n",
        "    '''\n",
        "    Return a list of characters, representing the shared vocabulary of all languages\n",
        "    '''\n",
        "    vocab = []\n",
        "    # build the global character‑level vocabulary once\n",
        "    vocab_counter = Counter()\n",
        "    for tokens, _lang in tweets:\n",
        "        vocab_counter.update(tokens)\n",
        "\n",
        "    vocab_counter.update(['<start>', '<end>'])\n",
        "    vocab = list(vocab_counter.keys())\n",
        "    return vocab\n",
        "\n",
        "# We didn't want to change the function signature so we split it into separate helper function\n",
        "def preprocess_one_lang(tweets, n) -> list[str]:\n",
        "    '''\n",
        "    Given a word-separated ndarray of size (N,), returns vocabulary for this ndarray\n",
        "    Note: Here we assume all tweets are in the same language.\n",
        "\n",
        "    n: the sentence length (for the n-gram)\n",
        "    '''\n",
        "    vocab_counter = Counter()\n",
        "    processed_tweets = []\n",
        "    for tweet_text in tweets:\n",
        "        tweet_text = ['<start>'] * (n - 1) + tweet_text + ['<end>']\n",
        "        processed_tweets.append(tweet_text)\n",
        "        vocab_counter.update(tweet_text)\n",
        "    vocab_counter.most_common()\n",
        "    vocab = list(vocab_counter.keys())\n",
        "    return vocab, processed_tweets"
      ]
    },
    {
      "cell_type": "code",
      "execution_count": 5,
      "metadata": {
        "colab": {
          "base_uri": "https://localhost:8080/"
        },
        "id": "-1jcvg0jtMjF",
        "outputId": "132b7ea4-462a-425e-9cb1-bc054e24354b"
      },
      "outputs": [
        {
          "output_type": "stream",
          "name": "stdout",
          "text": [
            "vocab length: 1804\n",
            "Some characters in the vocab: ['R', 'T', ' ', '@', 'A', 'z', 'u', '_', 'M', 'o']\n"
          ]
        }
      ],
      "source": [
        "vocab = preprocess()\n",
        "print(f\"vocab length: {len(vocab)}\")\n",
        "print(f\"Some characters in the vocab: {vocab[:10]}\")"
      ]
    },
    {
      "cell_type": "markdown",
      "metadata": {
        "id": "tpjtwHW08jyH"
      },
      "source": [
        "## Part 2\n",
        "Implement the function *build_lm* that generates a language model from a textual corpus. The function should return a dictionary (representing a model) where the keys are all the relevant *n*-1 sequences, and the values are dictionaries with the *n*_th tokens and their corresponding probabilities to occur. To ensure consistent probabilities calculation, please add n-1 `<start>` tokens to the beginning of a tweet and one `<end>` token at the end. For example, for a trigram model (tokens are characters), it should look something like:\n",
        "\n",
        "{ \"ab\":{\"c\":0.5, \"b\":0.25, \"d\":0.25}, \"ca\":{\"a\":0.2, \"b\":0.7, \"d\":0.1} }\n",
        "\n",
        "which means for example that after the sequence \"ab\", there is a 0.5 chance that \"c\" will appear, 0.25 for \"b\" to appear and 0.25 for \"d\" to appear.\n",
        "\n",
        "Note - You should think how to add the add-one smoothing information to the dictionary and implement it.\n",
        "\n",
        "Please add the `<unk>` token with $p(<unk>)=1/|V|$ to the LM if buiulding a smoothed LM."
      ]
    },
    {
      "cell_type": "code",
      "execution_count": 6,
      "metadata": {
        "id": "uySEXdEUrkq_"
      },
      "outputs": [],
      "source": [
        "def build_lm(lang: str, n: int, smoothed: bool = False) -> dict[str, dict[str, float]]:\n",
        "    '''\n",
        "    Return a language model for the given lang and n_gram (n)\n",
        "    :param lang: the language of the model\n",
        "    :param n: the n_gram value\n",
        "    :param smoothed: boolean indicating whether to apply smoothing\n",
        "    :return: a dictionary where the keys are n_grams and the values are dictionaries\n",
        "    '''\n",
        "    LM = {}\n",
        "    # ---------- memoize ----------\n",
        "    if not hasattr(build_lm, \"_cache\"):\n",
        "        build_lm._cache = {}\n",
        "    ckey = (lang, n, smoothed)\n",
        "    if ckey in build_lm._cache:\n",
        "        return build_lm._cache[ckey]\n",
        "    # ---------- gather & pad tweets ----------\n",
        "    tweet_texts = tweets[tweets[:, 1] == lang, 0]\n",
        "    if len(tweet_texts) == 0:\n",
        "        raise ValueError(\"No such language!\")\n",
        "    lang_vocab, processed_tweets = preprocess_one_lang(tweet_texts, n)\n",
        "    V = len(lang_vocab)\n",
        "    # ---------- count n‑grams ----------\n",
        "    lm_counts = defaultdict(Counter)\n",
        "    for chars in processed_tweets:                 # chars is list[str]\n",
        "        for i in range(len(chars) - (n - 1)):\n",
        "            key = \"\".join(chars[i : i + n - 1])    # (n‑1)‑gram context\n",
        "            next_c = chars[i + n - 1]\n",
        "            lm_counts[key][next_c] += 1\n",
        "\n",
        "    # ---------- store probabilities (observed only) ----------\n",
        "    for ctx, cnts in lm_counts.items():\n",
        "        total = sum(cnts.values())\n",
        "        denom = total + (V if smoothed else 0)\n",
        "        LM[ctx] = {c: (k + (1 if smoothed else 0)) / denom for c, k in cnts.items()}\n",
        "\n",
        "    # constant unknown prob for *any* unseen event in this context\n",
        "    if smoothed:\n",
        "        LM[\"<unk>\"] = 1 / V\n",
        "\n",
        "    build_lm._cache[ckey] = LM\n",
        "    return LM"
      ]
    },
    {
      "cell_type": "code",
      "execution_count": 7,
      "metadata": {
        "colab": {
          "base_uri": "https://localhost:8080/"
        },
        "id": "d9mqbEhBttmm",
        "outputId": "4448694f-c322-41d2-a5a7-757bd5ac507c"
      },
      "outputs": [
        {
          "output_type": "stream",
          "name": "stdout",
          "text": [
            "English Language Model with 3-gram is of length: 8238\n"
          ]
        }
      ],
      "source": [
        "LM = build_lm(\"en\", 3, False)\n",
        "print(f\"English Language Model with 3-gram is of length: {len(LM)}\")"
      ]
    },
    {
      "cell_type": "code",
      "execution_count": 8,
      "metadata": {
        "colab": {
          "base_uri": "https://localhost:8080/"
        },
        "id": "RTojjZyFnMpP",
        "outputId": "bb5673db-e438-440b-b9dd-cd474ff93768"
      },
      "outputs": [
        {
          "output_type": "stream",
          "name": "stdout",
          "text": [
            "English Language Model with 3-gram smoothed is of length: 8239\n"
          ]
        }
      ],
      "source": [
        "LM2 = build_lm(\"en\", 3, True)\n",
        "print(f\"English Language Model with 3-gram smoothed is of length: {len(LM2)}\")"
      ]
    },
    {
      "cell_type": "markdown",
      "metadata": {
        "id": "xwZnk7Ke8rW5"
      },
      "source": [
        "## Part 3\n",
        "Implement the function *eval* that returns the perplexity of a model (dictionary) running over the data file of the given target language.\n",
        "\n",
        "The `<unk>` should be used for unknown contexts when calculating the perplexities."
      ]
    },
    {
      "cell_type": "code",
      "execution_count": 9,
      "metadata": {
        "id": "y9w8u411uJeq"
      },
      "outputs": [],
      "source": [
        "def perplexity(model: dict, text: list, n) -> float:\n",
        "  '''\n",
        "  Calculates the perplexity of the given string using the given language model.\n",
        "  :param model: The language model\n",
        "  :param text: The tokenized text to calculate the perplexity for\n",
        "  :param n: The n-gram of the model\n",
        "  :return: The perplexity\n",
        "  '''\n",
        "  pp = 0\n",
        "  unk_prob_global = model.get(\"<unk>\", 1e-8)\n",
        "\n",
        "  log_sum = 0.0\n",
        "  steps   = 0\n",
        "\n",
        "  for i in range(len(text) - (n - 1)):\n",
        "      ctx  = \"\".join(text[i : i + n - 1])\n",
        "      nxt  = text[i + n - 1]\n",
        "      prob = model.get(ctx, {}).get(nxt, unk_prob_global)\n",
        "      log_sum += np.log(prob)\n",
        "      steps  += 1\n",
        "\n",
        "  pp = np.exp(-log_sum / max(steps, 1))\n",
        "  return pp"
      ]
    },
    {
      "cell_type": "code",
      "execution_count": 10,
      "metadata": {
        "id": "ef-EglxXrmk2"
      },
      "outputs": [],
      "source": [
        "def eval(model: dict, target_lang: str, n: int) -> float:\n",
        "  '''\n",
        "  Return the perplexity value calculated over applying the model on the text file\n",
        "  of the target_lang language.\n",
        "  :param model: the language model\n",
        "  :param target_lang: the target language\n",
        "  :param n: The n-gram of the model\n",
        "  :return: the perplexity value\n",
        "  '''\n",
        "  pp = 0\n",
        "  # cache joined & padded text per (lang,n)\n",
        "  if not hasattr(eval, \"_cache\"):\n",
        "      eval._cache = {}\n",
        "  ckey = (target_lang, n)\n",
        "  if ckey not in eval._cache:\n",
        "      tgt_texts = tweets[tweets[:, 1] == target_lang, 0]\n",
        "      _, proc = preprocess_one_lang(tgt_texts, n)\n",
        "      eval._cache[ckey] = [ch for sent in proc for ch in sent]\n",
        "\n",
        "  pp = perplexity(model, eval._cache[ckey], n)\n",
        "  return pp"
      ]
    },
    {
      "cell_type": "code",
      "execution_count": 11,
      "metadata": {
        "id": "AIdDFvinBVhx"
      },
      "outputs": [],
      "source": [
        "LM = build_lm(\"en\", 3, True)"
      ]
    },
    {
      "cell_type": "code",
      "execution_count": 12,
      "metadata": {
        "colab": {
          "base_uri": "https://localhost:8080/"
        },
        "id": "1WUouhkBuWJu",
        "outputId": "b27a6435-baf4-40b7-e6c9-17118f099b3a"
      },
      "outputs": [
        {
          "output_type": "stream",
          "name": "stdout",
          "text": [
            "Perplexity of the English 3-gram model on datasets:\n",
            "On English:  19.59\n",
            "On French:  39.10\n",
            "On Dutch:  41.58\n",
            "On Tagalog:  47.18\n"
          ]
        }
      ],
      "source": [
        "print(\"Perplexity of the English 3-gram model on datasets:\")\n",
        "print(f\"On English: {eval(LM, 'en', 3): .2f}\")\n",
        "print(f\"On French: {eval(LM, 'fr', 3): .2f}\")\n",
        "print(f\"On Dutch: {eval(LM, 'nl', 3): .2f}\")\n",
        "print(f\"On Tagalog: {eval(LM, 'tl', 3): .2f}\")\n"
      ]
    },
    {
      "cell_type": "code",
      "execution_count": 13,
      "metadata": {
        "colab": {
          "base_uri": "https://localhost:8080/"
        },
        "id": "5XP3ZIpLqB6r",
        "outputId": "f0fcf696-ae9e-4807-df23-18e3c5cf8bc5"
      },
      "outputs": [
        {
          "output_type": "stream",
          "name": "stdout",
          "text": [
            "Perplexity on differnet n-gram models on English\n",
            "On 1-gram:  37.82\n",
            "On 2-gram:  20.48\n",
            "On 3-gram:  19.59\n",
            "On 4-gram:  34.37\n"
          ]
        }
      ],
      "source": [
        "lm1 = build_lm(\"en\", 1, True)\n",
        "lm2 = build_lm(\"en\", 2, True)\n",
        "lm3 = build_lm(\"en\", 3, True)\n",
        "lm4 = build_lm(\"en\", 4, True)\n",
        "\n",
        "print(\"Perplexity on differnet n-gram models on English\")\n",
        "print(f\"On 1-gram: {eval(lm1, 'en', 1): .2f}\")\n",
        "print(f\"On 2-gram: {eval(lm2, 'en', 2): .2f}\")\n",
        "print(f\"On 3-gram: {eval(lm3, 'en', 3): .2f}\")\n",
        "print(f\"On 4-gram: {eval(lm4, 'en', 4): .2f}\")"
      ]
    },
    {
      "cell_type": "markdown",
      "metadata": {
        "id": "9ZYVc7hB84LP"
      },
      "source": [
        "## Part 4\n",
        "Implement the *match* function that calls *eval* using a specific value of *n* for every possible language pair among the languages we have data for. You should call *eval* for every language pair four times, with each call assign a different value for *n* (1-4). Each language pair is composed of the source language and the target language. Before you make the call, you need to call the *lm* function to create the language model for the source language. Then you can call *eval* with the language model and the target language. The function should return a pandas DataFrame with the following four columns: *source_lang*, *target_lang*, *n*, *perplexity*. The values for the first two columns are the two-letter language codes. The value for *n* is the *n* you use for generating the specific perplexity values which you should store in the forth column."
      ]
    },
    {
      "cell_type": "code",
      "execution_count": 14,
      "metadata": {
        "id": "tMczigsHuadi"
      },
      "outputs": [],
      "source": [
        "languages = ['en', 'es', 'fr', 'in', 'it', 'nl', 'pt', 'tl']"
      ]
    },
    {
      "cell_type": "code",
      "execution_count": 15,
      "metadata": {
        "id": "16ew9aZWroPC"
      },
      "outputs": [],
      "source": [
        "def match() -> pd.DataFrame:\n",
        "    ''''\n",
        "    Return a DataFrame containing one line per every language pair and n_gram.\n",
        "    Each line will contain the perplexity calculated when applying the language model\n",
        "    of the source language on the text of the target language.\n",
        "    :return: a DataFrame containing the perplexity values\n",
        "    '''\n",
        "    df  = pd.DataFrame()\n",
        "    records = []\n",
        "\n",
        "    for n in range(1, 5):\n",
        "        # build each source model once per n\n",
        "        src_models = {s: build_lm(s, n, smoothed=True) for s in languages}\n",
        "\n",
        "        for src, tgt in product(languages, repeat=2):\n",
        "            pp = eval(src_models[src], tgt, n)\n",
        "            records.append((src, tgt, n, pp))\n",
        "\n",
        "    df = pd.DataFrame(records,\n",
        "                      columns=[\"source\", \"target\", \"n\", \"perplexity\"])\n",
        "    return df\n"
      ]
    },
    {
      "cell_type": "markdown",
      "metadata": {
        "id": "pAQoR0dH9C3T"
      },
      "source": [
        "## Part 5\n",
        "Implement the *generate* function which takes a language code, *n*, the prompt (the starting text), the number of tokens to generate, and *r*, which is the random seed for any randomized action you plan to take in your implementation. The function should start generating tokens, one by one, using the language model of the given source language and *n*. The prompt should be used as a starting point for aligning on the probabilities to be used for generating the next token. For this exercise, you may assume a valid input in the respective language.\n",
        "\n",
        "Note - The generation of the next token should be from the LM's distribution with NO smoothing."
      ]
    },
    {
      "cell_type": "code",
      "execution_count": 16,
      "metadata": {
        "id": "Wead-xQTnxcK"
      },
      "outputs": [],
      "source": [
        "models = {(language, n): build_lm(language, n, False)\n",
        "          for language in languages\n",
        "          for n in [1, 2, 3, 4]}\n",
        "\n",
        "vocabs = {\n",
        "    lang: preprocess_one_lang(tweets[tweets[:, 1] == lang, 0], 1)[0]\n",
        "    for lang in languages\n",
        "}"
      ]
    },
    {
      "cell_type": "code",
      "execution_count": 17,
      "metadata": {
        "id": "_DvkxAGNn1gI"
      },
      "outputs": [],
      "source": [
        "import random"
      ]
    },
    {
      "cell_type": "code",
      "execution_count": 18,
      "metadata": {
        "id": "CpCm24-RrpuA"
      },
      "outputs": [],
      "source": [
        "def generate(lang: str, n: int, prompt: str, number_of_tokens: int, r: int) -> str:\n",
        "  '''\n",
        "  Generate text in the given language using the given parameters.\n",
        "  :param lang: the language of the model\n",
        "  :param n: the n_gram value\n",
        "  :param prompt: the prompt to start the generation\n",
        "  :param number_of_tokens: the number of tokens to generate\n",
        "  :param r: the random seed to use\n",
        "  '''\n",
        "  text = \"\"\n",
        "  ########################################\n",
        "  text = prompt\n",
        "  random.seed(r)\n",
        "\n",
        "  model = models.get((lang, n))\n",
        "  padded_prompt = ['<start>'] * (n - 1) + tokenize_text(prompt)\n",
        "\n",
        "  while number_of_tokens > 0:\n",
        "    number_of_tokens -= 1\n",
        "    ngram = ''.join(padded_prompt[-(n-1):]) if (n-1) > 0 else ''\n",
        "    prob_dist = model.get(ngram)\n",
        "    keys = list(prob_dist.keys()) if prob_dist is not None else None\n",
        "    probabilities = list(prob_dist.values()) if prob_dist is not None else None\n",
        "\n",
        "    rand_num = random.random()\n",
        "    cumulative_prob = 0.0\n",
        "    if prob_dist is not None:\n",
        "      for key, prob in zip(keys, probabilities):\n",
        "        cumulative_prob += prob\n",
        "        if rand_num < cumulative_prob:\n",
        "            text += key\n",
        "            break\n",
        "    else: # if unrecognized ngram, we fall to lesser ngram, otherwise if n==0 we halt generation\n",
        "      n -= 1\n",
        "      if n == 0:\n",
        "        return text\n",
        "      model = models.get((lang, n)) # update used model to smaller ngram version\n",
        "      number_of_tokens += 1 #didnt generate token yet, so return it to counter\n",
        "\n",
        "    padded_prompt[-1] = key\n",
        "  return text"
      ]
    },
    {
      "cell_type": "markdown",
      "metadata": {
        "id": "eUWX8Ugu9INH"
      },
      "source": [
        "## Part 6\n",
        "Play with your generate function, try to generate different texts in different language and various values of *n*. No need to submit anything of that."
      ]
    },
    {
      "cell_type": "code",
      "execution_count": 19,
      "metadata": {
        "colab": {
          "base_uri": "https://localhost:8080/"
        },
        "id": "0ykbMBzG9LWn",
        "outputId": "549618bf-7a20-45f0-e2db-a5485299a6bf"
      },
      "outputs": [
        {
          "output_type": "stream",
          "name": "stdout",
          "text": [
            "I amtpgLpC eLh\n",
            "I amoulpeginSh\n",
            "I amittchCalul\n",
            "I am cannTacca \n",
            "Soycalíodenye\n",
            "Soy (?\" y qAP\n",
            "Je suis:/opapropa\n",
            "Je suis nvésmpe..\n"
          ]
        }
      ],
      "source": [
        "print(generate('en', 1, \"I am\", 10, 5))\n",
        "print(generate('en', 2, \"I am\", 10, 5))\n",
        "print(generate('en', 3, \"I am\", 10, 5))\n",
        "print(generate('en', 4, \"I am \", 10, 5))\n",
        "print(generate('es', 2, \"Soy\", 10, 5))\n",
        "print(generate('es', 3, \"Soy\", 10, 5))\n",
        "print(generate('fr', 2, \"Je suis\", 10, 5))\n",
        "print(generate('fr', 3, \"Je suis\", 10, 5))"
      ]
    },
    {
      "cell_type": "markdown",
      "metadata": {
        "id": "q2jNlDISr9aL"
      },
      "source": [
        "# Testing"
      ]
    },
    {
      "cell_type": "markdown",
      "metadata": {
        "id": "uv48OCT_sIYW"
      },
      "source": [
        "Copy the content of the **tests.py** file from the repo and paste below. This will create the results.json file and download it to your machine."
      ]
    },
    {
      "cell_type": "code",
      "execution_count": 20,
      "metadata": {
        "id": "JZTlc2ieruqq",
        "colab": {
          "base_uri": "https://localhost:8080/",
          "height": 34
        },
        "outputId": "82b3c38d-b52a-467a-da81-02cba8ed5fee"
      },
      "outputs": [
        {
          "output_type": "display_data",
          "data": {
            "text/plain": [
              "<IPython.core.display.Javascript object>"
            ],
            "application/javascript": [
              "\n",
              "    async function download(id, filename, size) {\n",
              "      if (!google.colab.kernel.accessAllowed) {\n",
              "        return;\n",
              "      }\n",
              "      const div = document.createElement('div');\n",
              "      const label = document.createElement('label');\n",
              "      label.textContent = `Downloading \"${filename}\": `;\n",
              "      div.appendChild(label);\n",
              "      const progress = document.createElement('progress');\n",
              "      progress.max = size;\n",
              "      div.appendChild(progress);\n",
              "      document.body.appendChild(div);\n",
              "\n",
              "      const buffers = [];\n",
              "      let downloaded = 0;\n",
              "\n",
              "      const channel = await google.colab.kernel.comms.open(id);\n",
              "      // Send a message to notify the kernel that we're ready.\n",
              "      channel.send({})\n",
              "\n",
              "      for await (const message of channel.messages) {\n",
              "        // Send a message to notify the kernel that we're ready.\n",
              "        channel.send({})\n",
              "        if (message.buffers) {\n",
              "          for (const buffer of message.buffers) {\n",
              "            buffers.push(buffer);\n",
              "            downloaded += buffer.byteLength;\n",
              "            progress.value = downloaded;\n",
              "          }\n",
              "        }\n",
              "      }\n",
              "      const blob = new Blob(buffers, {type: 'application/binary'});\n",
              "      const a = document.createElement('a');\n",
              "      a.href = window.URL.createObjectURL(blob);\n",
              "      a.download = filename;\n",
              "      div.appendChild(a);\n",
              "      a.click();\n",
              "      div.remove();\n",
              "    }\n",
              "  "
            ]
          },
          "metadata": {}
        },
        {
          "output_type": "display_data",
          "data": {
            "text/plain": [
              "<IPython.core.display.Javascript object>"
            ],
            "application/javascript": [
              "download(\"download_85782d2c-a759-4fca-9ea2-6394a756572b\", \"results.json\", 901)"
            ]
          },
          "metadata": {}
        }
      ],
      "source": [
        "########################################\n",
        "# PLACE TESTS HERE #\n",
        "# Create tests\n",
        "def test_preprocess():\n",
        "    return {\n",
        "        'vocab_length': len(preprocess()),\n",
        "    }\n",
        "\n",
        "def test_build_lm():\n",
        "    return {\n",
        "        'english_2_gram_length': len(build_lm('en', 2, True)),\n",
        "        'english_3_gram_length': len(build_lm('en', 3, True)),\n",
        "        'french_3_gram_length': len(build_lm('fr', 3, True)),\n",
        "        'spanish_3_gram_length': len(build_lm('es', 3, True)),\n",
        "    }\n",
        "\n",
        "def test_eval():\n",
        "    lm = build_lm('en', 3, True)\n",
        "    return {\n",
        "        'en_on_en': round(eval(lm, 'en', 3), 2),\n",
        "        'en_on_fr': round(eval(lm, 'fr', 3), 2),\n",
        "        'en_on_tl': round(eval(lm, 'tl', 3), 2),\n",
        "        'en_on_nl': round(eval(lm, 'nl', 3), 2),\n",
        "    }\n",
        "\n",
        "def test_match():\n",
        "    df = match()\n",
        "    return {\n",
        "        'df_shape': df.shape,\n",
        "        'en_en_3': df[(df['source'] == 'en') & (df['target'] == 'en') & (df['n'] == 3)]['perplexity'].values[0],\n",
        "        'en_tl_3': df[(df['source'] == 'en') & (df['target'] == 'tl') & (df['n'] == 3)]['perplexity'].values[0],\n",
        "        'en_nl_3': df[(df['source'] == 'en') & (df['target'] == 'nl') & (df['n'] == 3)]['perplexity'].values[0],\n",
        "    }\n",
        "\n",
        "def test_generate():\n",
        "    return {\n",
        "        'english_2_gram': generate('en', 2, \"I am\", 20, 5),\n",
        "        'english_3_gram': generate('en', 3, \"I am\", 20, 5),\n",
        "        'english_4_gram': generate('en', 4, \"I Love\", 20, 5),\n",
        "        'spanish_2_gram': generate('es', 2, \"Soy\", 20, 5),\n",
        "        'spanish_3_gram': generate('es', 3, \"Soy\", 20, 5),\n",
        "        'french_2_gram': generate('fr', 2, \"Je suis\", 20, 5),\n",
        "        'french_3_gram': generate('fr', 3, \"Je suis\", 20, 5),\n",
        "    }\n",
        "\n",
        "# TESTS = [test_preprocess, test_build_lm, test_eval, test_match, test_generate]\n",
        "TESTS = [test_preprocess, test_build_lm, test_eval, test_match, test_generate]\n",
        "\n",
        "# Run tests and save results\n",
        "res = {}\n",
        "for test in TESTS:\n",
        "    try:\n",
        "        cur_res = test()\n",
        "        res.update({test.__name__: cur_res})\n",
        "    except Exception as e:\n",
        "        res.update({test.__name__: repr(e)})\n",
        "\n",
        "with open('results.json', 'w') as f:\n",
        "    json.dump(res, f, indent=2)\n",
        "\n",
        "# Download the results.json file\n",
        "if is_using_colab:\n",
        "    files.download('results.json')\n",
        "########################################"
      ]
    },
    {
      "cell_type": "code",
      "execution_count": 21,
      "metadata": {
        "colab": {
          "base_uri": "https://localhost:8080/"
        },
        "id": "0dEpidyrqXTr",
        "outputId": "4ab443ed-06f4-4807-91ec-7891f163a6eb"
      },
      "outputs": [
        {
          "output_type": "stream",
          "name": "stdout",
          "text": [
            "total 12\n",
            "drwxr-xr-x 2 root root 4096 May  4 19:53 data\n",
            "-rw-r--r-- 1 root root  901 May  4 20:00 results.json\n",
            "drwxr-xr-x 1 root root 4096 Apr 30 13:37 sample_data\n"
          ]
        }
      ],
      "source": [
        "# Show the local files, results.json should be there now and\n",
        "# also downloaded to your local machine\n",
        "!ls -l"
      ]
    }
  ],
  "metadata": {
    "colab": {
      "provenance": []
    },
    "kernelspec": {
      "display_name": "Python 3",
      "name": "python3"
    },
    "language_info": {
      "name": "python"
    }
  },
  "nbformat": 4,
  "nbformat_minor": 0
}